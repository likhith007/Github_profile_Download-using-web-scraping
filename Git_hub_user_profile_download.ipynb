{
 "cells": [
  {
   "cell_type": "code",
   "execution_count": 16,
   "id": "10a9e337",
   "metadata": {},
   "outputs": [
    {
     "name": "stdout",
     "output_type": "stream",
     "text": [
      "https://avatars.githubusercontent.com/u/77120871?v=4\n"
     ]
    }
   ],
   "source": [
    "from bs4 import BeautifulSoup\n",
    "import requests\n",
    "\n",
    "print(\"Please give github username to fetch profile image\")\n",
    "\n",
    "username = input()\n",
    "\n",
    "html_page = requests.get('https://github.com/likhith007')\n",
    "\n",
    "soup = BeautifulSoup(html_page.content, 'html.parser')\n",
    "\n",
    "# print(soup)\n",
    "\n",
    "profileImage = soup.find('img', class_=\"avatar avatar-user width-full border color-bg-primary\")\n",
    "\n",
    "print(profileImage['src'])\n",
    "\n",
    "response = requests.get(profileImage['src'])\n",
    "\n",
    "file = open(\".png\", \"wb\")\n",
    "file.write(response.content)\n",
    "file.close()"
   ]
  },
  {
   "cell_type": "markdown",
   "id": "8222ee16",
   "metadata": {},
   "source": [
    "# "
   ]
  }
 ],
 "metadata": {
  "kernelspec": {
   "display_name": "Python 3",
   "language": "python",
   "name": "python3"
  },
  "language_info": {
   "codemirror_mode": {
    "name": "ipython",
    "version": 3
   },
   "file_extension": ".py",
   "mimetype": "text/x-python",
   "name": "python",
   "nbconvert_exporter": "python",
   "pygments_lexer": "ipython3",
   "version": "3.8.8"
  }
 },
 "nbformat": 4,
 "nbformat_minor": 5
}
