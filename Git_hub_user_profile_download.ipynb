{
 "cells": [
  {
   "cell_type": "code",
   "execution_count": 17,
   "id": "389f744d",
   "metadata": {},
   "outputs": [
    {
     "name": "stdout",
     "output_type": "stream",
     "text": [
      "Please give github username to fetch profile image\n",
      "likhith007\n",
      "https://avatars.githubusercontent.com/u/77120871?v=4\n"
     ]
    }
   ],
   "source": [
    "from bs4 import BeautifulSoup\n",
    "import requests\n",
    "\n",
    "print(\"Please give github username to fetch profile image\")\n",
    "\n",
    "username = input()\n",
    "\n",
    "html_page = requests.get('https://github.com/'+username)\n",
    "\n",
    "soup = BeautifulSoup(html_page.content, 'html.parser')\n",
    "\n",
    "# print(soup)\n",
    "\n",
    "profileImage = soup.find('img', class_=\"avatar avatar-user width-full border color-bg-primary\")\n",
    "\n",
    "print(profileImage['src'])\n",
    "\n",
    "response = requests.get(profileImage['src'])\n",
    "\n",
    "file = open(username+\".png\", \"wb\")\n",
    "file.write(response.content)\n",
    "file.close()"
   ]
  },
  {
   "cell_type": "markdown",
   "id": "e58c1568",
   "metadata": {},
   "source": [
    "# "
   ]
  }
 ],
 "metadata": {
  "kernelspec": {
   "display_name": "Python 3",
   "language": "python",
   "name": "python3"
  },
  "language_info": {
   "codemirror_mode": {
    "name": "ipython",
    "version": 3
   },
   "file_extension": ".py",
   "mimetype": "text/x-python",
   "name": "python",
   "nbconvert_exporter": "python",
   "pygments_lexer": "ipython3",
   "version": "3.8.8"
  }
 },
 "nbformat": 4,
 "nbformat_minor": 5
}
